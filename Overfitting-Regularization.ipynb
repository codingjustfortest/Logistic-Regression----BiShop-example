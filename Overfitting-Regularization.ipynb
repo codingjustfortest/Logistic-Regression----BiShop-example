{
 "cells": [
  {
   "cell_type": "markdown",
   "id": "640d905e-7894-4f6a-83ca-d5e80257c8be",
   "metadata": {},
   "source": [
    "# Overfitting - Regularization in Regression"
   ]
  },
  {
   "cell_type": "markdown",
   "id": "b56e400b-c48b-4d8f-8ee6-5ca4d34fc8a5",
   "metadata": {},
   "source": [
    "### $$J(W) = Cost(X, y, W) + \\lambda R(W)$$\n",
    "$$J(W) = error(\\hat{y}, y) + \\lambda ||W||_i $$"
   ]
  },
  {
   "cell_type": "code",
   "execution_count": 1,
   "id": "08222902-7547-4411-82fb-6c5bd7c7b0f8",
   "metadata": {},
   "outputs": [],
   "source": [
    "# %matplotlib inline #Jupyter Notebook\n",
    "import numpy as np\n",
    "import matplotlib.pyplot as plt\n",
    "\n",
    "from sklearn.pipeline import Pipeline\n",
    "from sklearn.linear_model import LinearRegression, Lasso, Ridge\n",
    "from sklearn.preprocessing import PolynomialFeatures\n",
    "from sklearn.model_selection import cross_val_score\n",
    "\n",
    "import warnings"
   ]
  },
  {
   "cell_type": "markdown",
   "id": "d0930808-4c3b-42e0-ba6e-c4afc9360b82",
   "metadata": {},
   "source": [
    "# plotting setup"
   ]
  },
  {
   "cell_type": "code",
   "execution_count": null,
   "id": "61510b4d-db15-40a0-8744-eb9df7759c20",
   "metadata": {},
   "outputs": [],
   "source": [
    "# plt.figure(figsize=(10,5), dpi=150)\n",
    "plt.rcParams['figure.figsize'] = [10,5]\n",
    "plt.rcParams['figure.dpi'] = 150\n",
    "plt.style.use('Solarize_Light2')\n",
    "np.random.seed(42)\n",
    "np.set_printoptions(precision=2, linewidth=50)"
   ]
  },
  {
   "cell_type": "markdown",
   "id": "79842571-a909-4a15-9194-9973ced336e8",
   "metadata": {},
   "source": [
    "## Regression with Regularization"
   ]
  },
  {
   "cell_type": "code",
   "execution_count": null,
   "id": "7e8813dd-8c33-4498-b6f0-6af271d87123",
   "metadata": {},
   "outputs": [],
   "source": []
  }
 ],
 "metadata": {
  "kernelspec": {
   "display_name": "Python 3 (ipykernel)",
   "language": "python",
   "name": "python3"
  },
  "language_info": {
   "codemirror_mode": {
    "name": "ipython",
    "version": 3
   },
   "file_extension": ".py",
   "mimetype": "text/x-python",
   "name": "python",
   "nbconvert_exporter": "python",
   "pygments_lexer": "ipython3",
   "version": "3.10.12"
  }
 },
 "nbformat": 4,
 "nbformat_minor": 5
}
